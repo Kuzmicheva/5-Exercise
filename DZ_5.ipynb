{
 "cells": [
  {
   "cell_type": "code",
   "execution_count": null,
   "metadata": {},
   "outputs": [],
   "source": [
    "Переведите содержимое файла purchase_log.txt в словарь purchases вида:\n",
    "\n",
    "{'1840e0b9d4': 'Продукты', ...}\n",
    "Для каждого user_id в файле visit_log.csv добавьте третий столбец с категорией покупки (если покупка была).\n",
    "\n",
    "Запишите в файл funnel.csv визиты из файла visit_log.csv, в которых были покупки с указанием категории.\n",
    "\n",
    "Учтите условия на данные:\n",
    "\n",
    "содержимое purchase_log.txt помещается в оперативную память компьютера\n",
    "содержимое visit_log.csv - нет; используйте только построчную обработку этого файла"
   ]
  },
  {
   "cell_type": "code",
   "execution_count": 44,
   "metadata": {},
   "outputs": [],
   "source": [
    "import json\n",
    "purchases_temp = {}\n",
    "purchases = {}\n",
    "i = 0\n",
    "with open('purchase_log.txt', 'r', encoding = \"utf8\") as q:\n",
    "    for line in q:\n",
    "        line = line.strip()\n",
    "        purchases_temp = json.loads(line)\n",
    "        purchases [purchases_temp['user_id']] = purchases_temp['category']\n",
    "#         i += 1\n",
    "#         if i > 17:\n",
    "#             break\n",
    "#     print(purchases)\n",
    "\n",
    "\n",
    "          "
   ]
  },
  {
   "cell_type": "code",
   "execution_count": 45,
   "metadata": {},
   "outputs": [],
   "source": [
    "f = open('visit_log.csv', 'r', encoding = \"utf8\")\n",
    "with open('visits_context.csv', 'w', encoding = \"utf8\") as f2:\n",
    "            for line in f:\n",
    "                lst = line.strip().split(',')\n",
    "                if lst[0] in purchases:\n",
    "                    lst.append(purchases[lst[0]])\n",
    "                else:\n",
    "                    lst \n",
    "                f2.write(','.join(lst) +'\\n')"
   ]
  },
  {
   "cell_type": "code",
   "execution_count": 46,
   "metadata": {},
   "outputs": [],
   "source": [
    "i = 0\n",
    "vc = open('visits_context.csv', 'r', encoding = \"utf8\")\n",
    "with open('funnel.csv', 'w', encoding = \"utf8\") as fun:\n",
    "    for line in vc:\n",
    "        lst = line.strip().split(',')\n",
    "        \n",
    "        if len(lst) == 3:\n",
    "            lst_str = ','.join(lst) + '\\n'\n",
    "            fun.write(lst_str)  "
   ]
  },
  {
   "cell_type": "code",
   "execution_count": null,
   "metadata": {},
   "outputs": [],
   "source": []
  }
 ],
 "metadata": {
  "kernelspec": {
   "display_name": "Python 3",
   "language": "python",
   "name": "python3"
  },
  "language_info": {
   "codemirror_mode": {
    "name": "ipython",
    "version": 3
   },
   "file_extension": ".py",
   "mimetype": "text/x-python",
   "name": "python",
   "nbconvert_exporter": "python",
   "pygments_lexer": "ipython3",
   "version": "3.7.4"
  }
 },
 "nbformat": 4,
 "nbformat_minor": 2
}
